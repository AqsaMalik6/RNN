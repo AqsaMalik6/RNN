{
 "cells": [
  {
   "cell_type": "code",
   "execution_count": 1,
   "id": "e9376238",
   "metadata": {},
   "outputs": [],
   "source": [
    "# Gated units:\n",
    "#     LSTM\n",
    "#     GRU"
   ]
  },
  {
   "cell_type": "code",
   "execution_count": 5,
   "id": "c962bf97",
   "metadata": {},
   "outputs": [],
   "source": [
    "# import tensorflow as tf\n",
    "# from tensorflow.keras import layers, models\n",
    "# from tensorflow.keras.datasets import imdb\n",
    "# from tensorflow.keras.preprocessing import sequence\n",
    "\n",
    "# # Load the dataset\n",
    "# max_features = 10000  # Only consider the top 10,000 words\n",
    "# max_len = 500  # Only consider the first 500 words of each movie review\n",
    "\n",
    "# (x_train, y_train), (x_test, y_test) = imdb.load_data(num_words=max_features)\n",
    "\n",
    "# # Pad sequences to ensure uniform input length\n",
    "# x_train = sequence.pad_sequences(x_train, maxlen=max_len)\n",
    "# x_test = sequence.pad_sequences(x_test, maxlen=max_len)\n",
    "\n",
    "# # Define the RNN model\n",
    "# model = models.Sequential([\n",
    "#     layers.Embedding(input_dim=max_features, output_dim=128, input_length=max_len),  # Embedding layer\n",
    "#     layers.SimpleRNN(64, activation='relu'),  # RNN layer\n",
    "#     layers.Dense(1, activation='sigmoid')  # Output layer\n",
    "# ])\n",
    "\n",
    "# # Compile the model\n",
    "# model.compile(optimizer='adam', loss='binary_crossentropy', metrics=['accuracy'])\n",
    "\n",
    "# # Train the model\n",
    "# model.fit(x_train, y_train, epochs=5, batch_size=64, validation_split=0.2)\n",
    "\n",
    "# # Evaluate the model\n",
    "# loss, accuracy = model.evaluate(x_test, y_test)\n",
    "# print(f'Test Loss: {loss}')\n",
    "# print(f'Test Accuracy: {accuracy}')\n"
   ]
  },
  {
   "cell_type": "code",
   "execution_count": 7,
   "id": "6f7f4800",
   "metadata": {},
   "outputs": [
    {
     "name": "stdout",
     "output_type": "stream",
     "text": [
      "Epoch 1/10\n",
      "625/625 [==============================] - 103s 161ms/step - loss: 0.5636 - accuracy: 0.6953 - val_loss: 0.5857 - val_accuracy: 0.7380\n",
      "Epoch 2/10\n",
      "625/625 [==============================] - 101s 161ms/step - loss: 0.3730 - accuracy: 0.8434 - val_loss: 0.3467 - val_accuracy: 0.8562\n",
      "Epoch 3/10\n",
      "625/625 [==============================] - 99s 159ms/step - loss: 0.3025 - accuracy: 0.8785 - val_loss: 0.3511 - val_accuracy: 0.8602\n",
      "Epoch 4/10\n",
      "625/625 [==============================] - 95s 151ms/step - loss: 0.2730 - accuracy: 0.8915 - val_loss: 0.3384 - val_accuracy: 0.8532\n",
      "Epoch 5/10\n",
      "625/625 [==============================] - 100s 161ms/step - loss: 0.2185 - accuracy: 0.9165 - val_loss: 0.3943 - val_accuracy: 0.8406\n",
      "Epoch 6/10\n",
      "625/625 [==============================] - 98s 158ms/step - loss: 0.1741 - accuracy: 0.9344 - val_loss: 0.3849 - val_accuracy: 0.8624\n",
      "Epoch 7/10\n",
      "625/625 [==============================] - 107s 171ms/step - loss: 0.1502 - accuracy: 0.9457 - val_loss: 0.5607 - val_accuracy: 0.7940\n",
      "Epoch 8/10\n",
      "625/625 [==============================] - 97s 155ms/step - loss: 0.1172 - accuracy: 0.9581 - val_loss: 0.4631 - val_accuracy: 0.8346\n",
      "Epoch 9/10\n",
      "625/625 [==============================] - 101s 161ms/step - loss: 0.0993 - accuracy: 0.9663 - val_loss: 0.5082 - val_accuracy: 0.8426\n",
      "Epoch 10/10\n",
      "625/625 [==============================] - 98s 156ms/step - loss: 0.0770 - accuracy: 0.9729 - val_loss: 0.5589 - val_accuracy: 0.8382\n",
      "782/782 [==============================] - 30s 39ms/step - loss: 0.5846 - accuracy: 0.8293\n",
      "Test Accuracy: 0.8293200135231018\n"
     ]
    }
   ],
   "source": [
    "import tensorflow as tf\n",
    "from tensorflow.keras import datasets, layers, models\n",
    "\n",
    "# Import IMDB dataset\n",
    "(train_data, train_labels), (test_data, test_labels) = datasets.imdb.load_data(num_words=10000)\n",
    "\n",
    "# Preprocess the data\n",
    "train_data = tf.keras.preprocessing.sequence.pad_sequences(train_data, maxlen=500)\n",
    "test_data = tf.keras.preprocessing.sequence.pad_sequences(test_data, maxlen=500)\n",
    "\n",
    "# Define the model\n",
    "model = models.Sequential()\n",
    "model.add(layers.Embedding(10000, 32))\n",
    "model.add(layers.SimpleRNN(32))\n",
    "model.add(layers.Dense(1, activation='sigmoid'))\n",
    "\n",
    "# Compile the model\n",
    "model.compile(optimizer='rmsprop', loss='binary_crossentropy', metrics=['accuracy'])\n",
    "\n",
    "# Train the model\n",
    "history = model.fit(train_data, train_labels, epochs=10, validation_split=0.2)\n",
    "\n",
    "# Evaluate the model\n",
    "test_loss, test_acc = model.evaluate(test_data, test_labels)\n",
    "print('Test Accuracy:', test_acc)\n"
   ]
  },
  {
   "cell_type": "code",
   "execution_count": null,
   "id": "5cf42c88",
   "metadata": {},
   "outputs": [],
   "source": []
  },
  {
   "cell_type": "code",
   "execution_count": null,
   "id": "0d30ea8a",
   "metadata": {},
   "outputs": [],
   "source": []
  },
  {
   "cell_type": "code",
   "execution_count": null,
   "id": "8179e731",
   "metadata": {},
   "outputs": [],
   "source": []
  }
 ],
 "metadata": {
  "kernelspec": {
   "display_name": "Python 3 (ipykernel)",
   "language": "python",
   "name": "python3"
  },
  "language_info": {
   "codemirror_mode": {
    "name": "ipython",
    "version": 3
   },
   "file_extension": ".py",
   "mimetype": "text/x-python",
   "name": "python",
   "nbconvert_exporter": "python",
   "pygments_lexer": "ipython3",
   "version": "3.11.4"
  }
 },
 "nbformat": 4,
 "nbformat_minor": 5
}
